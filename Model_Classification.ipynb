{
 "cells": [
  {
   "cell_type": "code",
   "execution_count": 1,
   "metadata": {},
   "outputs": [],
   "source": [
    "import cv2     # for capturing videos\n",
    "import math   # for mathematical operations\n",
    "import matplotlib.pyplot as plt    # for plotting the images\n",
    "%matplotlib inline\n",
    "import pandas as pd\n",
    "from keras.preprocessing import image   # for preprocessing the images\n",
    "import numpy as np    # for mathematical operations\n",
    "from keras.utils import np_utils\n",
    "from skimage.transform import resize   # for resizing images\n",
    "from tensorflow.keras.applications.imagenet_utils import preprocess_input, decode_predictions\n",
    "from tensorflow.keras.models import load_model\n",
    "from keras.applications.vgg16 import VGG16\n",
    "from tensorflow.keras.preprocessing import image\n",
    "from tensorflow.keras.applications.resnet50 import ResNet50\n",
    "from sklearn.model_selection import train_test_split\n",
    "from tensorflow.keras.layers import Dense, InputLayer, Dropout\n",
    "from tensorflow.keras.models import Sequential\n",
    "from tensorflow import keras\n",
    "import os"
   ]
  },
  {
   "cell_type": "code",
   "execution_count": 3,
   "metadata": {},
   "outputs": [],
   "source": [
    "model = keras.models.load_model('train/model')"
   ]
  },
  {
   "cell_type": "code",
   "execution_count": 13,
   "metadata": {},
   "outputs": [
    {
     "name": "stdout",
     "output_type": "stream",
     "text": [
      "There are 4 Unique environments detected. Please enter their names\n",
      "Please input the name of location 1\n"
     ]
    },
    {
     "name": "stdout",
     "output_type": "stream",
     "text": [
      " check in\n"
     ]
    },
    {
     "name": "stdout",
     "output_type": "stream",
     "text": [
      "Please input the name of location 2\n"
     ]
    },
    {
     "name": "stdout",
     "output_type": "stream",
     "text": [
      " lobby\n"
     ]
    },
    {
     "name": "stdout",
     "output_type": "stream",
     "text": [
      "Please input the name of location 3\n"
     ]
    },
    {
     "name": "stdout",
     "output_type": "stream",
     "text": [
      " security\n"
     ]
    },
    {
     "name": "stdout",
     "output_type": "stream",
     "text": [
      "Please input the name of location 4\n"
     ]
    },
    {
     "name": "stdout",
     "output_type": "stream",
     "text": [
      " waiting area\n"
     ]
    },
    {
     "name": "stdout",
     "output_type": "stream",
     "text": [
      "{1: 'check in', 2: 'lobby', 3: 'security', 4: 'waiting area'}\n"
     ]
    }
   ],
   "source": [
    "df = pd.read_csv('train/frames.csv')\n",
    "print(\"There are\",df['Class'].nunique(), \"Unique environments detected. Please enter their names\")\n",
    "val_dict = {}\n",
    "count = 1\n",
    "while count <= df['Class'].nunique():\n",
    "    print(\"Please input the name of location\", count)\n",
    "    location = input()\n",
    "    val_dict[count] = location\n",
    "    count += 1\n",
    "print(val_dict)"
   ]
  },
  {
   "cell_type": "code",
   "execution_count": 7,
   "metadata": {},
   "outputs": [
    {
     "name": "stdout",
     "output_type": "stream",
     "text": [
      "(582, 224, 224, 3)\n",
      "[88, 335, 69, 90]\n",
      "(163, 224, 224, 3)\n",
      "[25, 42, 83, 13]\n",
      "(142, 224, 224, 3)\n",
      "[3, 124, 12, 3]\n",
      "(75, 224, 224, 3)\n",
      "[10, 65, 0, 0]\n",
      "(340, 224, 224, 3)\n",
      "[125, 192, 23, 0]\n",
      "(1065, 224, 224, 3)\n",
      "[42, 932, 61, 30]\n",
      "(127, 224, 224, 3)\n",
      "[79, 0, 48, 0]\n",
      "(1254, 224, 224, 3)\n",
      "[85, 759, 410, 0]\n",
      "(70, 224, 224, 3)\n",
      "[3, 61, 6, 0]\n",
      "(114, 224, 224, 3)\n",
      "[74, 40, 0, 0]\n",
      "(330, 224, 224, 3)\n",
      "[96, 165, 31, 38]\n",
      "(134, 224, 224, 3)\n",
      "[67, 66, 1, 0]\n",
      "(136, 224, 224, 3)\n",
      "[94, 30, 9, 3]\n"
     ]
    },
    {
     "ename": "KeyboardInterrupt",
     "evalue": "",
     "output_type": "error",
     "traceback": [
      "\u001b[1;31m---------------------------------------------------------------------------\u001b[0m",
      "\u001b[1;31mKeyboardInterrupt\u001b[0m                         Traceback (most recent call last)",
      "\u001b[1;32m<ipython-input-7-11176b9e20c1>\u001b[0m in \u001b[0;36m<module>\u001b[1;34m\u001b[0m\n\u001b[0;32m     11\u001b[0m     \u001b[0mtest_image\u001b[0m \u001b[1;33m=\u001b[0m \u001b[1;33m[\u001b[0m\u001b[1;33m]\u001b[0m\u001b[1;33m\u001b[0m\u001b[1;33m\u001b[0m\u001b[0m\n\u001b[0;32m     12\u001b[0m     \u001b[1;32mfor\u001b[0m \u001b[0mi\u001b[0m \u001b[1;32min\u001b[0m \u001b[0mrange\u001b[0m\u001b[1;33m(\u001b[0m\u001b[1;36m0\u001b[0m\u001b[1;33m,\u001b[0m\u001b[0mtest_img\u001b[0m\u001b[1;33m.\u001b[0m\u001b[0mshape\u001b[0m\u001b[1;33m[\u001b[0m\u001b[1;36m0\u001b[0m\u001b[1;33m]\u001b[0m\u001b[1;33m)\u001b[0m\u001b[1;33m:\u001b[0m\u001b[1;33m\u001b[0m\u001b[1;33m\u001b[0m\u001b[0m\n\u001b[1;32m---> 13\u001b[1;33m         \u001b[0ma\u001b[0m \u001b[1;33m=\u001b[0m \u001b[0mresize\u001b[0m\u001b[1;33m(\u001b[0m\u001b[0mtest_img\u001b[0m\u001b[1;33m[\u001b[0m\u001b[0mi\u001b[0m\u001b[1;33m]\u001b[0m\u001b[1;33m,\u001b[0m \u001b[0mpreserve_range\u001b[0m\u001b[1;33m=\u001b[0m\u001b[1;32mTrue\u001b[0m\u001b[1;33m,\u001b[0m \u001b[0moutput_shape\u001b[0m\u001b[1;33m=\u001b[0m\u001b[1;33m(\u001b[0m\u001b[1;36m224\u001b[0m\u001b[1;33m,\u001b[0m\u001b[1;36m224\u001b[0m\u001b[1;33m)\u001b[0m\u001b[1;33m)\u001b[0m\u001b[1;33m.\u001b[0m\u001b[0mastype\u001b[0m\u001b[1;33m(\u001b[0m\u001b[0mint\u001b[0m\u001b[1;33m)\u001b[0m\u001b[1;33m\u001b[0m\u001b[1;33m\u001b[0m\u001b[0m\n\u001b[0m\u001b[0;32m     14\u001b[0m         \u001b[0mtest_image\u001b[0m\u001b[1;33m.\u001b[0m\u001b[0mappend\u001b[0m\u001b[1;33m(\u001b[0m\u001b[0ma\u001b[0m\u001b[1;33m)\u001b[0m\u001b[1;33m\u001b[0m\u001b[1;33m\u001b[0m\u001b[0m\n\u001b[0;32m     15\u001b[0m     \u001b[0mtest_image\u001b[0m \u001b[1;33m=\u001b[0m \u001b[0mnp\u001b[0m\u001b[1;33m.\u001b[0m\u001b[0marray\u001b[0m\u001b[1;33m(\u001b[0m\u001b[0mtest_image\u001b[0m\u001b[1;33m)\u001b[0m\u001b[1;33m\u001b[0m\u001b[1;33m\u001b[0m\u001b[0m\n",
      "\u001b[1;32m~\\anaconda3\\lib\\site-packages\\skimage\\transform\\_warps.py\u001b[0m in \u001b[0;36mresize\u001b[1;34m(image, output_shape, order, mode, cval, clip, preserve_range, anti_aliasing, anti_aliasing_sigma)\u001b[0m\n\u001b[0;32m    145\u001b[0m                              \"documentation of numpy.pad for more info.\")\n\u001b[0;32m    146\u001b[0m \u001b[1;33m\u001b[0m\u001b[0m\n\u001b[1;32m--> 147\u001b[1;33m         image = ndi.gaussian_filter(image, anti_aliasing_sigma,\n\u001b[0m\u001b[0;32m    148\u001b[0m                                     cval=cval, mode=ndi_mode)\n\u001b[0;32m    149\u001b[0m \u001b[1;33m\u001b[0m\u001b[0m\n",
      "\u001b[1;32m~\\anaconda3\\lib\\site-packages\\scipy\\ndimage\\filters.py\u001b[0m in \u001b[0;36mgaussian_filter\u001b[1;34m(input, sigma, order, output, mode, cval, truncate)\u001b[0m\n\u001b[0;32m    339\u001b[0m     \u001b[1;32mif\u001b[0m \u001b[0mlen\u001b[0m\u001b[1;33m(\u001b[0m\u001b[0maxes\u001b[0m\u001b[1;33m)\u001b[0m \u001b[1;33m>\u001b[0m \u001b[1;36m0\u001b[0m\u001b[1;33m:\u001b[0m\u001b[1;33m\u001b[0m\u001b[1;33m\u001b[0m\u001b[0m\n\u001b[0;32m    340\u001b[0m         \u001b[1;32mfor\u001b[0m \u001b[0maxis\u001b[0m\u001b[1;33m,\u001b[0m \u001b[0msigma\u001b[0m\u001b[1;33m,\u001b[0m \u001b[0morder\u001b[0m\u001b[1;33m,\u001b[0m \u001b[0mmode\u001b[0m \u001b[1;32min\u001b[0m \u001b[0maxes\u001b[0m\u001b[1;33m:\u001b[0m\u001b[1;33m\u001b[0m\u001b[1;33m\u001b[0m\u001b[0m\n\u001b[1;32m--> 341\u001b[1;33m             gaussian_filter1d(input, sigma, axis, order, output,\n\u001b[0m\u001b[0;32m    342\u001b[0m                               mode, cval, truncate)\n\u001b[0;32m    343\u001b[0m             \u001b[0minput\u001b[0m \u001b[1;33m=\u001b[0m \u001b[0moutput\u001b[0m\u001b[1;33m\u001b[0m\u001b[1;33m\u001b[0m\u001b[0m\n",
      "\u001b[1;32m~\\anaconda3\\lib\\site-packages\\scipy\\ndimage\\filters.py\u001b[0m in \u001b[0;36mgaussian_filter1d\u001b[1;34m(input, sigma, axis, order, output, mode, cval, truncate)\u001b[0m\n\u001b[0;32m    258\u001b[0m     \u001b[1;31m# Since we are calling correlate, not convolve, revert the kernel\u001b[0m\u001b[1;33m\u001b[0m\u001b[1;33m\u001b[0m\u001b[1;33m\u001b[0m\u001b[0m\n\u001b[0;32m    259\u001b[0m     \u001b[0mweights\u001b[0m \u001b[1;33m=\u001b[0m \u001b[0m_gaussian_kernel1d\u001b[0m\u001b[1;33m(\u001b[0m\u001b[0msigma\u001b[0m\u001b[1;33m,\u001b[0m \u001b[0morder\u001b[0m\u001b[1;33m,\u001b[0m \u001b[0mlw\u001b[0m\u001b[1;33m)\u001b[0m\u001b[1;33m[\u001b[0m\u001b[1;33m:\u001b[0m\u001b[1;33m:\u001b[0m\u001b[1;33m-\u001b[0m\u001b[1;36m1\u001b[0m\u001b[1;33m]\u001b[0m\u001b[1;33m\u001b[0m\u001b[1;33m\u001b[0m\u001b[0m\n\u001b[1;32m--> 260\u001b[1;33m     \u001b[1;32mreturn\u001b[0m \u001b[0mcorrelate1d\u001b[0m\u001b[1;33m(\u001b[0m\u001b[0minput\u001b[0m\u001b[1;33m,\u001b[0m \u001b[0mweights\u001b[0m\u001b[1;33m,\u001b[0m \u001b[0maxis\u001b[0m\u001b[1;33m,\u001b[0m \u001b[0moutput\u001b[0m\u001b[1;33m,\u001b[0m \u001b[0mmode\u001b[0m\u001b[1;33m,\u001b[0m \u001b[0mcval\u001b[0m\u001b[1;33m,\u001b[0m \u001b[1;36m0\u001b[0m\u001b[1;33m)\u001b[0m\u001b[1;33m\u001b[0m\u001b[1;33m\u001b[0m\u001b[0m\n\u001b[0m\u001b[0;32m    261\u001b[0m \u001b[1;33m\u001b[0m\u001b[0m\n\u001b[0;32m    262\u001b[0m \u001b[1;33m\u001b[0m\u001b[0m\n",
      "\u001b[1;32m~\\anaconda3\\lib\\site-packages\\scipy\\ndimage\\filters.py\u001b[0m in \u001b[0;36mcorrelate1d\u001b[1;34m(input, weights, axis, output, mode, cval, origin)\u001b[0m\n\u001b[0;32m    131\u001b[0m                          '(len(weights)-1) // 2')\n\u001b[0;32m    132\u001b[0m     \u001b[0mmode\u001b[0m \u001b[1;33m=\u001b[0m \u001b[0m_ni_support\u001b[0m\u001b[1;33m.\u001b[0m\u001b[0m_extend_mode_to_code\u001b[0m\u001b[1;33m(\u001b[0m\u001b[0mmode\u001b[0m\u001b[1;33m)\u001b[0m\u001b[1;33m\u001b[0m\u001b[1;33m\u001b[0m\u001b[0m\n\u001b[1;32m--> 133\u001b[1;33m     _nd_image.correlate1d(input, weights, axis, output, mode, cval,\n\u001b[0m\u001b[0;32m    134\u001b[0m                           origin)\n\u001b[0;32m    135\u001b[0m     \u001b[1;32mreturn\u001b[0m \u001b[0moutput\u001b[0m\u001b[1;33m\u001b[0m\u001b[1;33m\u001b[0m\u001b[0m\n",
      "\u001b[1;31mKeyboardInterrupt\u001b[0m: "
     ]
    }
   ],
   "source": [
    "counter = int((len(os.listdir('userhalf')))/2)\n",
    "user_dict = {}\n",
    "for x in range(counter):\n",
    "    calc_val = []\n",
    "    test = pd.read_csv('userhalf/user%d/frames.csv' % x)\n",
    "    test_image = []\n",
    "    for img_name in test.Image_ID:\n",
    "        img = plt.imread('userhalf/user%d/' % x + img_name)\n",
    "        test_image.append(img)\n",
    "    test_img = np.array(test_image)\n",
    "    test_image = []\n",
    "    for i in range(0,test_img.shape[0]):\n",
    "        a = resize(test_img[i], preserve_range=True, output_shape=(224,224)).astype(int)\n",
    "        test_image.append(a)\n",
    "    test_image = np.array(test_image)\n",
    "    print(test_image.shape)\n",
    "    # preprocessing the images\n",
    "    base_model = ResNet50(weights='imagenet', include_top=False, input_shape=(224, 224, 3))  \n",
    "    test_image = preprocess_input(test_image, mode='caffe')\n",
    "\n",
    "    # extracting features from the images using pretrained model\n",
    "    test_image = base_model.predict(test_image)\n",
    "\n",
    "    # converting the images to 1-D form\n",
    "    test_image = test_image.reshape(test_image.shape[0], 7*7*2048)\n",
    "\n",
    "    # zero centered images\n",
    "    test_image = test_image/test_image.max()\n",
    "    user = model.predict_classes(test_image)\n",
    "    for i in range(df['Class'].nunique()):\n",
    "        calc_val.append(user[user==i+1].shape[0])\n",
    "    user_dict[x] = calc_val\n",
    "    print(user_dict[x])\n",
    "print(user_dict)"
   ]
  },
  {
   "cell_type": "code",
   "execution_count": 62,
   "metadata": {},
   "outputs": [
    {
     "name": "stdout",
     "output_type": "stream",
     "text": [
      "{0: 44.0, 1: 4.75, 2: 11.0, 3: 4.5}\n"
     ]
    }
   ],
   "source": [
    "new_dict = {}\n",
    "for i in val_dict:\n",
    "    sums = []\n",
    "    for j in user_dict:\n",
    "        sums.append(user_dict[j][i-1])\n",
    "    new_dict[i-1] = round(sum(sums)/df['Class'].nunique(), 2)\n",
    "print(new_dict)"
   ]
  },
  {
   "cell_type": "code",
   "execution_count": 8,
   "metadata": {},
   "outputs": [
    {
     "name": "stdout",
     "output_type": "stream",
     "text": [
      "{0: [88, 335, 69, 90], 1: [25, 42, 83, 13], 2: [3, 124, 12, 3], 3: [10, 65, 0, 0], 4: [125, 192, 23, 0], 5: [42, 932, 61, 30], 6: [79, 0, 48, 0], 7: [85, 759, 410, 0], 8: [3, 61, 6, 0], 9: [74, 40, 0, 0], 10: [96, 165, 31, 38], 11: [67, 66, 1, 0], 12: [94, 30, 9, 3]}\n"
     ]
    }
   ],
   "source": [
    "print(user_dict)"
   ]
  },
  {
   "cell_type": "code",
   "execution_count": 73,
   "metadata": {},
   "outputs": [
    {
     "name": "stdout",
     "output_type": "stream",
     "text": [
      "{0: 37.375, 1: 31.125, 2: 1.375, 3: 7.625}\n"
     ]
    }
   ],
   "source": [
    "user_stdev = {}\n",
    "for i in user_dict:\n",
    "    stdev_calc = []\n",
    "    for j in new_dict:\n",
    "        stdev_calc.append(user_dict[i][j] - new_dict[j])\n",
    "    new_calc = (math.sqrt((sum(stdev_calc) ** 2)/len(user_dict.keys())))\n",
    "    user_stdev[i] = new_calc\n",
    "print(user_stdev)"
   ]
  },
  {
   "cell_type": "code",
   "execution_count": 116,
   "metadata": {},
   "outputs": [
    {
     "name": "stdout",
     "output_type": "stream",
     "text": [
      "['check in', 'baggage', 'securityu', 'waiting']\n",
      "[('user0', [131, 2, 6, 0]), ('user1', [2, 0, 0, 0]), ('user2', [34, 8, 23, 2]), ('user3', [9, 9, 15, 16])]\n"
     ]
    }
   ],
   "source": [
    "fields = []\n",
    "for i in val_dict:\n",
    "    fields.append(val_dict[i])\n",
    "print(fields)\n",
    "rows = []\n",
    "for i in user_dict:\n",
    "    rows.append(('user' + str(i), user_dict[i]))\n",
    "print(rows)"
   ]
  },
  {
   "cell_type": "code",
   "execution_count": 118,
   "metadata": {},
   "outputs": [],
   "source": [
    "import csv\n",
    "filename = \"final_data.csv\"\n",
    "with open(filename, 'w') as csvfile: \n",
    "    # creating a csv writer object \n",
    "    csvwriter = csv.writer(csvfile) \n",
    "        \n",
    "    # writing the fields \n",
    "    csvwriter.writerow(fields) \n",
    "        \n",
    "    # writing the data rows\n",
    "    csvwriter.writerows(user_vals)"
   ]
  },
  {
   "cell_type": "code",
   "execution_count": 9,
   "metadata": {},
   "outputs": [
    {
     "ename": "NameError",
     "evalue": "name 'new_dict' is not defined",
     "output_type": "error",
     "traceback": [
      "\u001b[1;31m---------------------------------------------------------------------------\u001b[0m",
      "\u001b[1;31mNameError\u001b[0m                                 Traceback (most recent call last)",
      "\u001b[1;32m<ipython-input-9-a6ca0ce2cb3a>\u001b[0m in \u001b[0;36m<module>\u001b[1;34m\u001b[0m\n\u001b[0;32m      3\u001b[0m \u001b[1;32mfor\u001b[0m \u001b[0mi\u001b[0m \u001b[1;32min\u001b[0m \u001b[0muser_dict\u001b[0m\u001b[1;33m:\u001b[0m\u001b[1;33m\u001b[0m\u001b[1;33m\u001b[0m\u001b[0m\n\u001b[0;32m      4\u001b[0m     \u001b[0mtest_vals\u001b[0m \u001b[1;33m=\u001b[0m \u001b[1;33m[\u001b[0m\u001b[1;33m]\u001b[0m\u001b[1;33m\u001b[0m\u001b[1;33m\u001b[0m\u001b[0m\n\u001b[1;32m----> 5\u001b[1;33m     \u001b[1;32mfor\u001b[0m \u001b[0mj\u001b[0m \u001b[1;32min\u001b[0m \u001b[0mnew_dict\u001b[0m\u001b[1;33m:\u001b[0m\u001b[1;33m\u001b[0m\u001b[1;33m\u001b[0m\u001b[0m\n\u001b[0m\u001b[0;32m      6\u001b[0m         \u001b[0mtest_vals\u001b[0m\u001b[1;33m.\u001b[0m\u001b[0mappend\u001b[0m\u001b[1;33m(\u001b[0m\u001b[0muser_dict\u001b[0m\u001b[1;33m[\u001b[0m\u001b[0mi\u001b[0m\u001b[1;33m]\u001b[0m\u001b[1;33m[\u001b[0m\u001b[0mj\u001b[0m\u001b[1;33m]\u001b[0m\u001b[1;33m)\u001b[0m\u001b[1;33m\u001b[0m\u001b[1;33m\u001b[0m\u001b[0m\n\u001b[0;32m      7\u001b[0m     \u001b[0muser_vals\u001b[0m\u001b[1;33m.\u001b[0m\u001b[0mappend\u001b[0m\u001b[1;33m(\u001b[0m\u001b[0mtest_vals\u001b[0m\u001b[1;33m)\u001b[0m\u001b[1;33m\u001b[0m\u001b[1;33m\u001b[0m\u001b[0m\n",
      "\u001b[1;31mNameError\u001b[0m: name 'new_dict' is not defined"
     ]
    }
   ],
   "source": [
    "user_vals = []\n",
    "test_vals = []\n",
    "for i in user_dict:\n",
    "    test_vals = []\n",
    "    for j in new_dict:\n",
    "        test_vals.append(user_dict[i][j])\n",
    "    user_vals.append(test_vals)\n",
    "    print(user_vals)"
   ]
  },
  {
   "cell_type": "code",
   "execution_count": 110,
   "metadata": {},
   "outputs": [],
   "source": [
    "my_df = pd.DataFrame(user_vals)\n",
    "my_df.to_csv('my_csv.csv', index=False, header=False)"
   ]
  },
  {
   "cell_type": "code",
   "execution_count": 11,
   "metadata": {},
   "outputs": [
    {
     "name": "stdout",
     "output_type": "stream",
     "text": [
      "[[88, 335, 69, 90], [25, 42, 83, 13], [3, 124, 12, 3], [10, 65, 0, 0], [125, 192, 23, 0], [42, 932, 61, 30], [79, 0, 48, 0], [85, 759, 410, 0], [3, 61, 6, 0], [74, 40, 0, 0], [96, 165, 31, 38], [67, 66, 1, 0], [94, 30, 9, 3]]\n"
     ]
    }
   ],
   "source": [
    "values = []\n",
    "for i in user_dict:\n",
    "    values.append(user_dict[i])\n",
    "print(values)"
   ]
  },
  {
   "cell_type": "code",
   "execution_count": 12,
   "metadata": {},
   "outputs": [],
   "source": [
    "import csv\n",
    "filename = \"times.csv\"\n",
    "with open(filename, 'w',newline = '') as csvfile:\n",
    "    csvwriter = csv.writer(csvfile)\n",
    "    csvwriter.writerows(values)"
   ]
  },
  {
   "cell_type": "code",
   "execution_count": 5,
   "metadata": {},
   "outputs": [],
   "source": [
    "test = pd.read_csv('userhalf/user49/frames.csv')"
   ]
  },
  {
   "cell_type": "code",
   "execution_count": 6,
   "metadata": {},
   "outputs": [],
   "source": [
    "test_image = []\n",
    "for img_name in test.Image_ID:\n",
    "    img = plt.imread('userhalf/user49/' + img_name)\n",
    "    test_image.append(img)\n",
    "test_img = np.array(test_image)"
   ]
  },
  {
   "cell_type": "code",
   "execution_count": 7,
   "metadata": {},
   "outputs": [
    {
     "data": {
      "text/plain": [
       "(376, 224, 224, 3)"
      ]
     },
     "execution_count": 7,
     "metadata": {},
     "output_type": "execute_result"
    }
   ],
   "source": [
    "test_image = []\n",
    "for i in range(0,test_img.shape[0]):\n",
    "    a = resize(test_img[i], preserve_range=True, output_shape=(224,224)).astype(int)\n",
    "    test_image.append(a)\n",
    "test_image = np.array(test_image)\n",
    "test_image.shape"
   ]
  },
  {
   "cell_type": "code",
   "execution_count": 8,
   "metadata": {},
   "outputs": [],
   "source": [
    "base_model = ResNet50(weights='imagenet', include_top=False, input_shape=(224, 224, 3)) \n",
    "# preprocessing the images\n",
    "test_image = preprocess_input(test_image, mode='caffe')\n",
    "\n",
    "# extracting features from the images using pretrained model\n",
    "test_image = base_model.predict(test_image)\n",
    "\n",
    "# converting the images to 1-D form\n",
    "test_image = test_image.reshape(376, 7*7*2048)\n",
    "\n",
    "# zero centered images\n",
    "test_image = test_image/test_image.max()"
   ]
  },
  {
   "cell_type": "code",
   "execution_count": 9,
   "metadata": {},
   "outputs": [
    {
     "name": "stderr",
     "output_type": "stream",
     "text": [
      "C:\\Users\\lotla\\anaconda3\\lib\\site-packages\\tensorflow\\python\\keras\\engine\\sequential.py:450: UserWarning: `model.predict_classes()` is deprecated and will be removed after 2021-01-01. Please use instead:* `np.argmax(model.predict(x), axis=-1)`,   if your model does multi-class classification   (e.g. if it uses a `softmax` last-layer activation).* `(model.predict(x) > 0.5).astype(\"int32\")`,   if your model does binary classification   (e.g. if it uses a `sigmoid` last-layer activation).\n",
      "  warnings.warn('`model.predict_classes()` is deprecated and '\n"
     ]
    }
   ],
   "source": [
    "user1 = model.predict_classes(test_image)"
   ]
  },
  {
   "cell_type": "code",
   "execution_count": 10,
   "metadata": {},
   "outputs": [
    {
     "name": "stdout",
     "output_type": "stream",
     "text": [
      "[1 1 1 1 1 1 1 1 1 2 1 1 1 1 1 1 1 1 1 1 1 1 1 1 1 1 1 1 1 1 1 1 1 1 1 1 1\n",
      " 1 1 1 1 1 1 1 1 1 1 1 1 1 1 1 1 1 1 1 1 1 1 1 1 1 1 1 1 1 1 1 1 1 1 1 1 1\n",
      " 1 1 1 1 1 1 1 1 1 1 1 1 1 1 1 1 1 1 1 1 1 1 1 1 1 1 1 1 1 1 1 1 1 2 2 2 2\n",
      " 2 3 3 3 1 1 1 1 1 1 1 1 1 1 1 1 1 1 1 3 1 1 1 2 2 2 2 2 2 2 2 2 2 1 1 1 1\n",
      " 1 1 1 1 1 1 1 1 1 1 1 1 1 1 1 1 1 1 1 1 1 1 1 1 1 1 1 1 1 1 1 1 1 1 1 1 1\n",
      " 1 1 1 1 1 1 1 1 1 1 1 1 1 1 1 1 1 1 1 1 1 1 1 1 1 1 1 1 1 2 1 1 1 1 1 1 1\n",
      " 1 1 1 1 3 3 1 3 2 2 2 2 2 3 2 2 3 3 3 3 3 1 1 1 1 1 1 2 2 2 2 2 2 2 2 2 2\n",
      " 2 2 2 2 2 2 2 2 2 2 2 2 1 1 1 2 1 3 3 3 3 3 3 1 2 1 1 2 2 2 2 2 2 2 2 2 2\n",
      " 2 2 2 2 2 2 2 2 2 2 2 2 2 2 2 2 2 2 2 2 2 2 2 4 4 4 4 4 4 4 4 4 4 4 1 4 4\n",
      " 4 4 4 4 4 4 4 4 4 4 4 4 1 4 4 4 1 4 4 4 4 4 4 4 4 4 4 1 1 4 1 1 4 4 4 1 1\n",
      " 1 4 4 4 4 4]\n"
     ]
    }
   ],
   "source": [
    "print(user1)"
   ]
  },
  {
   "cell_type": "code",
   "execution_count": 11,
   "metadata": {},
   "outputs": [
    {
     "name": "stderr",
     "output_type": "stream",
     "text": [
      "C:\\Users\\lotla\\anaconda3\\lib\\site-packages\\tensorflow\\python\\keras\\engine\\sequential.py:425: UserWarning: `model.predict_proba()` is deprecated and will be removed after 2021-01-01. Please use `model.predict()` instead.\n",
      "  warnings.warn('`model.predict_proba()` is deprecated and '\n"
     ]
    }
   ],
   "source": [
    "probabilities = model.predict_proba(test_image)"
   ]
  },
  {
   "cell_type": "code",
   "execution_count": 12,
   "metadata": {},
   "outputs": [
    {
     "name": "stdout",
     "output_type": "stream",
     "text": [
      "[[1.42560306e-03 7.31980145e-01 1.14314295e-01 1.31523795e-02\n",
      "  1.39127582e-01]\n",
      " [3.60249222e-04 2.52681389e-03 2.14175899e-02 9.48973835e-01\n",
      "  2.67214570e-02]\n",
      " [3.36978381e-04 2.06013350e-03 1.64988954e-02 9.48629916e-01\n",
      "  3.24740484e-02]\n",
      " ...\n",
      " [1.46428632e-04 1.26761617e-03 2.75981636e-03 9.81968820e-01\n",
      "  1.38573525e-02]\n",
      " [3.39617894e-04 1.98050332e-03 7.05771670e-02 9.18889940e-01\n",
      "  8.21277220e-03]\n",
      " [1.14085997e-04 1.39248348e-03 1.77755614e-03 9.90796685e-01\n",
      "  5.91914728e-03]]\n"
     ]
    }
   ],
   "source": [
    "print(probabilities)"
   ]
  },
  {
   "cell_type": "code",
   "execution_count": 14,
   "metadata": {},
   "outputs": [
    {
     "name": "stdout",
     "output_type": "stream",
     "text": [
      "Model: \"sequential\"\n",
      "_________________________________________________________________\n",
      "Layer (type)                 Output Shape              Param #   \n",
      "=================================================================\n",
      "dense (Dense)                (None, 2048)              205522944 \n",
      "_________________________________________________________________\n",
      "dropout (Dropout)            (None, 2048)              0         \n",
      "_________________________________________________________________\n",
      "dense_1 (Dense)              (None, 1024)              2098176   \n",
      "_________________________________________________________________\n",
      "dropout_1 (Dropout)          (None, 1024)              0         \n",
      "_________________________________________________________________\n",
      "dense_2 (Dense)              (None, 512)               524800    \n",
      "_________________________________________________________________\n",
      "dropout_2 (Dropout)          (None, 512)               0         \n",
      "_________________________________________________________________\n",
      "dense_3 (Dense)              (None, 5)                 2565      \n",
      "=================================================================\n",
      "Total params: 208,148,485\n",
      "Trainable params: 208,148,485\n",
      "Non-trainable params: 0\n",
      "_________________________________________________________________\n"
     ]
    }
   ],
   "source": [
    "model.summary()"
   ]
  },
  {
   "cell_type": "code",
   "execution_count": 9,
   "metadata": {},
   "outputs": [],
   "source": [
    "testprob = model.predict(test_image)"
   ]
  },
  {
   "cell_type": "code",
   "execution_count": 15,
   "metadata": {},
   "outputs": [
    {
     "name": "stdout",
     "output_type": "stream",
     "text": [
      "[1.4920115e-04 3.0714658e-03 2.4883121e-03 6.4494587e-03 9.8784155e-01]\n"
     ]
    }
   ],
   "source": [
    "print(testprob[322])"
   ]
  },
  {
   "cell_type": "code",
   "execution_count": 31,
   "metadata": {},
   "outputs": [
    {
     "name": "stdout",
     "output_type": "stream",
     "text": [
      "[3.7243598e-04 2.3758614e-03 1.9271675e-02 9.4159120e-01 3.6388781e-02]\n"
     ]
    }
   ],
   "source": [
    "print(testprob[3])"
   ]
  },
  {
   "cell_type": "code",
   "execution_count": 11,
   "metadata": {},
   "outputs": [],
   "source": [
    "test_image2 = test_image/255"
   ]
  },
  {
   "cell_type": "code",
   "execution_count": 19,
   "metadata": {},
   "outputs": [],
   "source": [
    "testprob = model.predict(test_image)"
   ]
  },
  {
   "cell_type": "code",
   "execution_count": 20,
   "metadata": {},
   "outputs": [
    {
     "name": "stdout",
     "output_type": "stream",
     "text": [
      "[[2.4886669e-03 4.9353212e-01 2.7404994e-01 4.8320659e-02 1.8160862e-01]\n",
      " [1.1678940e-04 9.9191272e-01 3.9144875e-03 3.1526345e-03 9.0331165e-04]\n",
      " [1.1939214e-04 9.9170059e-01 3.9257728e-03 3.3166986e-03 9.3763776e-04]\n",
      " ...\n",
      " [1.7494624e-03 3.1831002e-01 2.7632771e-02 1.3880703e-01 5.1350075e-01]\n",
      " [1.7491698e-03 3.2151061e-01 2.7441060e-02 1.3898864e-01 5.1031047e-01]\n",
      " [1.7043854e-03 3.4847057e-01 2.5368460e-02 1.3031265e-01 4.9414399e-01]]\n"
     ]
    }
   ],
   "source": [
    "print(testprob)"
   ]
  },
  {
   "cell_type": "code",
   "execution_count": 28,
   "metadata": {},
   "outputs": [
    {
     "name": "stdout",
     "output_type": "stream",
     "text": [
      "[0.00170439 0.34847057 0.02536846 0.13031265 0.494144  ]\n"
     ]
    }
   ],
   "source": [
    "print(testprob[375])"
   ]
  },
  {
   "cell_type": "code",
   "execution_count": 29,
   "metadata": {},
   "outputs": [],
   "source": [
    "confidences = np.squeeze(model.predict(test_image))"
   ]
  },
  {
   "cell_type": "code",
   "execution_count": 30,
   "metadata": {},
   "outputs": [
    {
     "name": "stdout",
     "output_type": "stream",
     "text": [
      "[[2.4886669e-03 4.9353212e-01 2.7404994e-01 4.8320659e-02 1.8160862e-01]\n",
      " [1.1678940e-04 9.9191272e-01 3.9144875e-03 3.1526345e-03 9.0331165e-04]\n",
      " [1.1939214e-04 9.9170059e-01 3.9257728e-03 3.3166986e-03 9.3763776e-04]\n",
      " ...\n",
      " [1.7494624e-03 3.1831002e-01 2.7632771e-02 1.3880703e-01 5.1350075e-01]\n",
      " [1.7491698e-03 3.2151061e-01 2.7441060e-02 1.3898864e-01 5.1031047e-01]\n",
      " [1.7043854e-03 3.4847057e-01 2.5368460e-02 1.3031265e-01 4.9414399e-01]]\n"
     ]
    }
   ],
   "source": [
    "print(confidences)"
   ]
  },
  {
   "cell_type": "code",
   "execution_count": 16,
   "metadata": {},
   "outputs": [
    {
     "ename": "NameError",
     "evalue": "name 'confidences' is not defined",
     "output_type": "error",
     "traceback": [
      "\u001b[1;31m---------------------------------------------------------------------------\u001b[0m",
      "\u001b[1;31mNameError\u001b[0m                                 Traceback (most recent call last)",
      "\u001b[1;32m<ipython-input-16-1cee5b4d03e6>\u001b[0m in \u001b[0;36m<module>\u001b[1;34m\u001b[0m\n\u001b[1;32m----> 1\u001b[1;33m \u001b[0mprint\u001b[0m\u001b[1;33m(\u001b[0m\u001b[0mconfidences\u001b[0m\u001b[1;33m[\u001b[0m\u001b[1;36m9\u001b[0m\u001b[1;33m]\u001b[0m\u001b[1;33m)\u001b[0m\u001b[1;33m\u001b[0m\u001b[1;33m\u001b[0m\u001b[0m\n\u001b[0m",
      "\u001b[1;31mNameError\u001b[0m: name 'confidences' is not defined"
     ]
    }
   ],
   "source": [
    "print(confidences[9])"
   ]
  },
  {
   "cell_type": "code",
   "execution_count": 37,
   "metadata": {},
   "outputs": [],
   "source": [
    "k = 5\n",
    "confidences = np.squeeze(model.predict(test_image))\n",
    "inds = np.argsort(-confidences)\n",
    "top_k = inds[:k]\n",
    "top_confidences = confidences[inds]"
   ]
  },
  {
   "cell_type": "code",
   "execution_count": 35,
   "metadata": {},
   "outputs": [],
   "source": [
    "class_names = ['check in', 'baggage', 'securityu', 'waiting']"
   ]
  },
  {
   "cell_type": "code",
   "execution_count": 38,
   "metadata": {},
   "outputs": [
    {
     "name": "stdout",
     "output_type": "stream",
     "text": [
      "[[[1.1678940e-04 9.9191272e-01 3.9144875e-03 3.1526345e-03 9.0331165e-04]\n",
      "  [1.1939214e-04 9.9170059e-01 3.9257728e-03 3.3166986e-03 9.3763776e-04]\n",
      "  [1.1143440e-04 9.9143010e-01 4.4988371e-03 3.3565226e-03 6.0316891e-04]\n",
      "  [1.3404711e-04 9.9025553e-01 4.7455919e-03 3.8140684e-03 1.0506734e-03]\n",
      "  [2.4886669e-03 4.9353212e-01 2.7404994e-01 4.8320659e-02 1.8160862e-01]]\n",
      "\n",
      " [[1.1678940e-04 9.9191272e-01 3.9144875e-03 3.1526345e-03 9.0331165e-04]\n",
      "  [1.1939214e-04 9.9170059e-01 3.9257728e-03 3.3166986e-03 9.3763776e-04]\n",
      "  [1.3404711e-04 9.9025553e-01 4.7455919e-03 3.8140684e-03 1.0506734e-03]\n",
      "  [1.1143440e-04 9.9143010e-01 4.4988371e-03 3.3565226e-03 6.0316891e-04]\n",
      "  [2.4886669e-03 4.9353212e-01 2.7404994e-01 4.8320659e-02 1.8160862e-01]]\n",
      "\n",
      " [[1.1678940e-04 9.9191272e-01 3.9144875e-03 3.1526345e-03 9.0331165e-04]\n",
      "  [1.1939214e-04 9.9170059e-01 3.9257728e-03 3.3166986e-03 9.3763776e-04]\n",
      "  [1.3404711e-04 9.9025553e-01 4.7455919e-03 3.8140684e-03 1.0506734e-03]\n",
      "  [1.1143440e-04 9.9143010e-01 4.4988371e-03 3.3565226e-03 6.0316891e-04]\n",
      "  [2.4886669e-03 4.9353212e-01 2.7404994e-01 4.8320659e-02 1.8160862e-01]]\n",
      "\n",
      " ...\n",
      "\n",
      " [[1.1143440e-04 9.9143010e-01 4.4988371e-03 3.3565226e-03 6.0316891e-04]\n",
      "  [1.1678940e-04 9.9191272e-01 3.9144875e-03 3.1526345e-03 9.0331165e-04]\n",
      "  [1.3404711e-04 9.9025553e-01 4.7455919e-03 3.8140684e-03 1.0506734e-03]\n",
      "  [1.1939214e-04 9.9170059e-01 3.9257728e-03 3.3166986e-03 9.3763776e-04]\n",
      "  [2.4886669e-03 4.9353212e-01 2.7404994e-01 4.8320659e-02 1.8160862e-01]]\n",
      "\n",
      " [[1.1143440e-04 9.9143010e-01 4.4988371e-03 3.3565226e-03 6.0316891e-04]\n",
      "  [1.1678940e-04 9.9191272e-01 3.9144875e-03 3.1526345e-03 9.0331165e-04]\n",
      "  [1.3404711e-04 9.9025553e-01 4.7455919e-03 3.8140684e-03 1.0506734e-03]\n",
      "  [1.1939214e-04 9.9170059e-01 3.9257728e-03 3.3166986e-03 9.3763776e-04]\n",
      "  [2.4886669e-03 4.9353212e-01 2.7404994e-01 4.8320659e-02 1.8160862e-01]]\n",
      "\n",
      " [[1.1143440e-04 9.9143010e-01 4.4988371e-03 3.3565226e-03 6.0316891e-04]\n",
      "  [1.1678940e-04 9.9191272e-01 3.9144875e-03 3.1526345e-03 9.0331165e-04]\n",
      "  [1.3404711e-04 9.9025553e-01 4.7455919e-03 3.8140684e-03 1.0506734e-03]\n",
      "  [1.1939214e-04 9.9170059e-01 3.9257728e-03 3.3166986e-03 9.3763776e-04]\n",
      "  [2.4886669e-03 4.9353212e-01 2.7404994e-01 4.8320659e-02 1.8160862e-01]]]\n"
     ]
    }
   ],
   "source": [
    "print(top_confidences)"
   ]
  },
  {
   "cell_type": "code",
   "execution_count": null,
   "metadata": {},
   "outputs": [],
   "source": []
  }
 ],
 "metadata": {
  "kernelspec": {
   "display_name": "Python 3 (ipykernel)",
   "language": "python",
   "name": "python3"
  },
  "language_info": {
   "codemirror_mode": {
    "name": "ipython",
    "version": 3
   },
   "file_extension": ".py",
   "mimetype": "text/x-python",
   "name": "python",
   "nbconvert_exporter": "python",
   "pygments_lexer": "ipython3",
   "version": "3.9.7"
  }
 },
 "nbformat": 4,
 "nbformat_minor": 4
}
